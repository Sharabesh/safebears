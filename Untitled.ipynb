{
 "cells": [
  {
   "cell_type": "code",
   "execution_count": 1,
   "metadata": {},
   "outputs": [],
   "source": [
    "import pandas as pd "
   ]
  },
  {
   "cell_type": "code",
   "execution_count": 7,
   "metadata": {},
   "outputs": [
    {
     "data": {
      "text/plain": [
       "0       [1700 FOURTH ST, Berkeley, CA, (37.871883, -12...\n",
       "1       [1500 SHATTUCK AVE, Berkeley, CA, (37.880227, ...\n",
       "2       [1700 ALCATRAZ AVE, Berkeley, CA, (37.848453, ...\n",
       "3       [1700 HIGHLAND PL, Berkeley, CA, (37.877482, -...\n",
       "4       [1400 NINTH ST, Berkeley, CA, (37.878274, -122...\n",
       "5       [1600 PRINCE ST, Berkeley, CA, (37.85177, -122...\n",
       "6       [2700 7TH ST, Berkeley, CA, (37.856088, -122.2...\n",
       "7       [SHATTUCK AV &amp; VINE ST, Berkeley, CA, (37....\n",
       "8       [2100 ACTON ST, Berkeley, CA, (37.869167, -122...\n",
       "9       [1800 SIXTY-SECOND ST, Berkeley, CA, (37.86959...\n",
       "10      [2400 TELEGRAPH AVE, Berkeley, CA, (37.866761,...\n",
       "11      [2000 PARKER ST, Berkeley, CA, (37.861843, -12...\n",
       "12      [2500 ETNA ST, Berkeley, CA, (37.865797, -122....\n",
       "13      [2200 DWIGHT WAY, Berkeley, CA, (37.864238, -1...\n",
       "14      [2100 MARTIN LUTHER KING JR WY, Berkeley, CA, ...\n",
       "15      [1200 FIFTH ST, Berkeley, CA, (37.880756, -122...\n",
       "16      [ASHBY AV &amp; COLLEGE AV, Berkeley, CA, (37....\n",
       "17      [2300 SHATTUCK AVE, Berkeley, CA, (37.867176, ...\n",
       "18      [1800 FOURTH ST, Berkeley, CA, (37.869888, -12...\n",
       "19      [1200 SEVENTH ST, Berkeley, CA, (37.881225, -1...\n",
       "20      [2300 BROWNING ST, Berkeley, CA, (37.864808, -...\n",
       "21      [900 CAMELIA ST, Berkeley, CA, (37.877891, -12...\n",
       "22      [1200 CORNELL AVE, Berkeley, CA, (37.882739, -...\n",
       "23      [2000 UNIVERSITY AVE, Berkeley, CA, (37.871828...\n",
       "24      [1000 UNIVERSITY AVE, Berkeley, CA, (37.868641...\n",
       "25      [800 GILMAN ST, Berkeley, CA, (37.879129, -122...\n",
       "26           [HARMON STREET &amp; ELLIS ST, Berkeley, CA]\n",
       "27      [3000 SHATTUCK AVE, Berkeley, CA, (37.855026, ...\n",
       "28      [2400 TELEGRAPH AVE, Berkeley, CA, (37.866761,...\n",
       "29      [1835 ALCATRAZ AVE, Berkeley, CA, (37.84889, -...\n",
       "                              ...                        \n",
       "3958    [2000 CHANNING WAY, Berkeley, CA, (37.865501, ...\n",
       "3959    [1400 LINCOLN ST, Berkeley, CA, (37.875239, -1...\n",
       "3960    [1800 UNIVERSITY AVE, Berkeley, CA, (37.871246...\n",
       "3961    [MARTIN LUTHER KING JR WY &amp; CENTER ST, Ber...\n",
       "3962    [800 GILMAN ST, Berkeley, CA, (37.879129, -122...\n",
       "3963    [1700 SIXTH ST, Berkeley, CA, (37.871917, -122...\n",
       "3964    [2800 ADELINE ST, Berkeley, CA, (37.858116, -1...\n",
       "3965    [1800 ALCATRAZ AVE, Berkeley, CA, (37.848774, ...\n",
       "3966    [2400 DWIGHT WAY, Berkeley, CA, (37.864826, -1...\n",
       "3967    [LINCOLN STREET &amp; SHATTUCK AV, Berkeley, C...\n",
       "3968    [1700 FOURTH ST, Berkeley, CA, (37.871883, -12...\n",
       "3969    [COLLEGE AVENUE &amp; DERBY ST, Berkeley, CA, ...\n",
       "3970    [2100 ESSEX ST, Berkeley, CA, (37.853861, -122...\n",
       "3971    [1500 UNIVERSITY AVE, Berkeley, CA, (37.870396...\n",
       "3972    [900 UNIVERSITY AVE, Berkeley, CA, (37.868263,...\n",
       "3973    [1800 SOLANO AVE, Berkeley, CA, (37.891332, -1...\n",
       "3974    [1500 POSEN AVE, Berkeley, CA, (37.883608, -12...\n",
       "3975    [2300 STUART ST, Berkeley, CA, (37.859195, -12...\n",
       "3976    [2000 DURANT AVE, Berkeley, CA, (37.866426, -1...\n",
       "3977    [1900 SHATTUCK AVE, Berkeley, CA, (37.873687, ...\n",
       "3978    [1900 CENTER ST, Berkeley, CA, (37.869685, -12...\n",
       "3979    [1300 DWIGHT WAY, Berkeley, CA, (37.861627, -1...\n",
       "3980    [2900 DWIGHT WAY, Berkeley, CA, (37.865991, -1...\n",
       "3981    [2200 BONAR ST, Berkeley, CA, (37.86695, -122....\n",
       "3982    [1000 UNIVERSITY AVE, Berkeley, CA, (37.868641...\n",
       "3983                 [1500 M L KING JR WAY, Berkeley, CA]\n",
       "3984    [1700 OREGON ST, Berkeley, CA, (37.856595, -12...\n",
       "3985    [3000 SHATTUCK AVE, Berkeley, CA, (37.855026, ...\n",
       "3986    [2900 CLAREMONT AVE, Berkeley, CA, (37.858993,...\n",
       "3987    [1900 VINE ST, Berkeley, CA, (37.879679, -122....\n",
       "Name: Block_Location, Length: 3988, dtype: object"
      ]
     },
     "execution_count": 7,
     "metadata": {},
     "output_type": "execute_result"
    }
   ],
   "source": [
    "dat = pd.read_csv(\"data/crime.csv\")\n",
    "dat['Block_Location'].str.split(\"\\n\")"
   ]
  },
  {
   "cell_type": "code",
   "execution_count": null,
   "metadata": {},
   "outputs": [],
   "source": []
  }
 ],
 "metadata": {
  "kernelspec": {
   "display_name": "Python 3",
   "language": "python",
   "name": "python3"
  },
  "language_info": {
   "codemirror_mode": {
    "name": "ipython",
    "version": 3
   },
   "file_extension": ".py",
   "mimetype": "text/x-python",
   "name": "python",
   "nbconvert_exporter": "python",
   "pygments_lexer": "ipython3",
   "version": "3.7.0"
  }
 },
 "nbformat": 4,
 "nbformat_minor": 2
}
